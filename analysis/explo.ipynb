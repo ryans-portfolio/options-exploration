{
 "cells": [
  {
   "cell_type": "code",
   "execution_count": 5,
   "id": "a0dbd0c9",
   "metadata": {},
   "outputs": [],
   "source": [
    "from lotto import LottoTicket\n",
    "from main import read_csvs, parse_tickers, filter_df_by_col\n",
    "import polars as pl\n",
    "import os\n",
    "import pathlib\n",
    "import plotly.express as px\n",
    "import random\n",
    "\n",
    "import pathlib\n",
    "import os\n",
    "\n",
    "this_dir = pathlib.Path('.').parent.resolve()\n",
    "data_dir = this_dir / \"..\" / \"data\"\n",
    "trades_dir = data_dir /  \"2025\"\n",
    "output_dir = os.path.join(data_dir, \"output\")\n",
    "root_dir = os.path.join(this_dir, \"..\")"
   ]
  },
  {
   "cell_type": "code",
   "execution_count": 6,
   "id": "a053d27c",
   "metadata": {},
   "outputs": [],
   "source": [
    "csv_files = [f for f in trades_dir.rglob('*.csv.gz')]\n",
    "csv_files.sort(reverse=True)  # Sort files by name (newest first)\n",
    "csv_files = csv_files[0:1]"
   ]
  },
  {
   "cell_type": "code",
   "execution_count": 7,
   "id": "f05ab413",
   "metadata": {},
   "outputs": [
    {
     "name": "stdout",
     "output_type": "stream",
     "text": [
      "Reading C:\\Users\\Ryan\\Desktop\\port\\options-exploration\\analysis\\..\\data\\2025\\09\\2025-09-11.csv.gz\n"
     ]
    }
   ],
   "source": [
    "filter_dict = {\n",
    "    \"symbol\": [\"SPY\", \"SPX\"],\n",
    "    \"cp\": [\"C\"],\n",
    "}\n",
    "\n",
    "filter_function = filter_df_by_col(filter_dict=filter_dict)\n",
    "\n",
    "df = read_csvs(csv_files=csv_files, filter_func=filter_function)"
   ]
  },
  {
   "cell_type": "code",
   "execution_count": 8,
   "id": "43a5cde5",
   "metadata": {},
   "outputs": [
    {
     "name": "stdout",
     "output_type": "stream",
     "text": [
      "O:SPY250911C00657000\n"
     ]
    }
   ],
   "source": [
    "df = df.with_columns(\n",
    "    pl.col('size').sum().over('ticker').alias('total_vol')\n",
    ")\n",
    "vol = df.select(pl.col('ticker'), pl.col('total_vol')).unique().sort('total_vol', descending=True)\n",
    "top_tickers = vol.head(10)['ticker'].to_list()\n",
    "\n",
    "tt = top_tickers[1]\n",
    "\n",
    "test = df.filter(pl.col('ticker') == random.choice(top_tickers))\n",
    "print(tt)"
   ]
  },
  {
   "cell_type": "code",
   "execution_count": 9,
   "id": "74134b31",
   "metadata": {},
   "outputs": [],
   "source": [
    "L = LottoTicket(test)\n",
    "L.plot_price_dist()"
   ]
  },
  {
   "cell_type": "code",
   "execution_count": 11,
   "id": "a19d055d",
   "metadata": {},
   "outputs": [],
   "source": [
    "OPE = L.data\n",
    "# Calculate days to expiration as an integer (number of days)\n",
    "OPE = OPE.with_columns(\n",
    "    ((pl.col('expiration') - pl.col('datetime')).dt.total_days().floor().cast(pl.Int64).alias('days_to_expiration'))\n",
    ")"
   ]
  },
  {
   "cell_type": "code",
   "execution_count": 55,
   "id": "9780d9c0",
   "metadata": {},
   "outputs": [],
   "source": [
    "fig = px.scatter(OPE, x='days_to_expiration', y='price', color='is_up', hover_data=['ticker', 'date'])\n",
    "fig.show(renderer=\"browser\")"
   ]
  },
  {
   "cell_type": "code",
   "execution_count": 12,
   "id": "a12e159f",
   "metadata": {},
   "outputs": [
    {
     "data": {
      "text/html": [
       "<div><style>\n",
       ".dataframe > thead > tr,\n",
       ".dataframe > tbody > tr {\n",
       "  text-align: right;\n",
       "  white-space: pre-wrap;\n",
       "}\n",
       "</style>\n",
       "<small>shape: (35_323, 17)</small><table border=\"1\" class=\"dataframe\"><thead><tr><th>ticker</th><th>conditions</th><th>correction</th><th>exchange</th><th>price</th><th>sip_timestamp</th><th>size</th><th>symbol</th><th>date</th><th>cp</th><th>strike</th><th>expiration</th><th>datetime</th><th>total_vol</th><th>is_up</th><th>days_to_expiration</th><th>date_R</th></tr><tr><td>str</td><td>str</td><td>i64</td><td>i64</td><td>f64</td><td>i64</td><td>i64</td><td>str</td><td>str</td><td>str</td><td>i64</td><td>date</td><td>datetime[ns]</td><td>i64</td><td>bool</td><td>i64</td><td>datetime[ns]</td></tr></thead><tbody><tr><td>&quot;O:SPY250911C00656000&quot;</td><td>&quot;209&quot;</td><td>0</td><td>308</td><td>0.4</td><td>1757597400748000000</td><td>28</td><td>&quot;SPY&quot;</td><td>&quot;250911&quot;</td><td>&quot;C&quot;</td><td>656000</td><td>2025-09-11</td><td>2025-09-11 13:30:00.748</td><td>242215</td><td>false</td><td>0</td><td>2025-09-11 14:00:00</td></tr><tr><td>&quot;O:SPY250911C00656000&quot;</td><td>&quot;232&quot;</td><td>0</td><td>303</td><td>0.38</td><td>1757597400798000000</td><td>3</td><td>&quot;SPY&quot;</td><td>&quot;250911&quot;</td><td>&quot;C&quot;</td><td>656000</td><td>2025-09-11</td><td>2025-09-11 13:30:00.798</td><td>242215</td><td>false</td><td>0</td><td>2025-09-11 14:00:00</td></tr><tr><td>&quot;O:SPY250911C00656000&quot;</td><td>&quot;232&quot;</td><td>0</td><td>318</td><td>0.39</td><td>1757597400805000000</td><td>4</td><td>&quot;SPY&quot;</td><td>&quot;250911&quot;</td><td>&quot;C&quot;</td><td>656000</td><td>2025-09-11</td><td>2025-09-11 13:30:00.805</td><td>242215</td><td>false</td><td>0</td><td>2025-09-11 14:00:00</td></tr><tr><td>&quot;O:SPY250911C00656000&quot;</td><td>&quot;232&quot;</td><td>0</td><td>318</td><td>0.38</td><td>1757597401044000000</td><td>3</td><td>&quot;SPY&quot;</td><td>&quot;250911&quot;</td><td>&quot;C&quot;</td><td>656000</td><td>2025-09-11</td><td>2025-09-11 13:30:01.044</td><td>242215</td><td>false</td><td>0</td><td>2025-09-11 14:00:00</td></tr><tr><td>&quot;O:SPY250911C00656000&quot;</td><td>&quot;209&quot;</td><td>0</td><td>323</td><td>0.38</td><td>1757597401157000000</td><td>49</td><td>&quot;SPY&quot;</td><td>&quot;250911&quot;</td><td>&quot;C&quot;</td><td>656000</td><td>2025-09-11</td><td>2025-09-11 13:30:01.157</td><td>242215</td><td>false</td><td>0</td><td>2025-09-11 14:00:00</td></tr><tr><td>&hellip;</td><td>&hellip;</td><td>&hellip;</td><td>&hellip;</td><td>&hellip;</td><td>&hellip;</td><td>&hellip;</td><td>&hellip;</td><td>&hellip;</td><td>&hellip;</td><td>&hellip;</td><td>&hellip;</td><td>&hellip;</td><td>&hellip;</td><td>&hellip;</td><td>&hellip;</td><td>&hellip;</td></tr><tr><td>&quot;O:SPY250911C00656000&quot;</td><td>&quot;209&quot;</td><td>0</td><td>315</td><td>1.65</td><td>1757621583598000000</td><td>1</td><td>&quot;SPY&quot;</td><td>&quot;250911&quot;</td><td>&quot;C&quot;</td><td>656000</td><td>2025-09-11</td><td>2025-09-11 20:13:03.598</td><td>242215</td><td>true</td><td>0</td><td>2025-09-11 20:00:00</td></tr><tr><td>&quot;O:SPY250911C00656000&quot;</td><td>&quot;227&quot;</td><td>0</td><td>304</td><td>1.67</td><td>1757621586008000000</td><td>1</td><td>&quot;SPY&quot;</td><td>&quot;250911&quot;</td><td>&quot;C&quot;</td><td>656000</td><td>2025-09-11</td><td>2025-09-11 20:13:06.008</td><td>242215</td><td>true</td><td>0</td><td>2025-09-11 20:00:00</td></tr><tr><td>&quot;O:SPY250911C00656000&quot;</td><td>&quot;233&quot;</td><td>0</td><td>302</td><td>1.67</td><td>1757621608948000000</td><td>12</td><td>&quot;SPY&quot;</td><td>&quot;250911&quot;</td><td>&quot;C&quot;</td><td>656000</td><td>2025-09-11</td><td>2025-09-11 20:13:28.948</td><td>242215</td><td>true</td><td>0</td><td>2025-09-11 20:00:00</td></tr><tr><td>&quot;O:SPY250911C00656000&quot;</td><td>&quot;209&quot;</td><td>0</td><td>307</td><td>1.59</td><td>1757621642327000000</td><td>10</td><td>&quot;SPY&quot;</td><td>&quot;250911&quot;</td><td>&quot;C&quot;</td><td>656000</td><td>2025-09-11</td><td>2025-09-11 20:14:02.327</td><td>242215</td><td>true</td><td>0</td><td>2025-09-11 20:00:00</td></tr><tr><td>&quot;O:SPY250911C00656000&quot;</td><td>&quot;232&quot;</td><td>0</td><td>308</td><td>1.58</td><td>1757621666015000000</td><td>61</td><td>&quot;SPY&quot;</td><td>&quot;250911&quot;</td><td>&quot;C&quot;</td><td>656000</td><td>2025-09-11</td><td>2025-09-11 20:14:26.015</td><td>242215</td><td>true</td><td>0</td><td>2025-09-11 20:00:00</td></tr></tbody></table></div>"
      ],
      "text/plain": [
       "shape: (35_323, 17)\n",
       "┌────────────┬────────────┬────────────┬──────────┬───┬───────────┬───────┬────────────┬───────────┐\n",
       "│ ticker     ┆ conditions ┆ correction ┆ exchange ┆ … ┆ total_vol ┆ is_up ┆ days_to_ex ┆ date_R    │\n",
       "│ ---        ┆ ---        ┆ ---        ┆ ---      ┆   ┆ ---       ┆ ---   ┆ piration   ┆ ---       │\n",
       "│ str        ┆ str        ┆ i64        ┆ i64      ┆   ┆ i64       ┆ bool  ┆ ---        ┆ datetime[ │\n",
       "│            ┆            ┆            ┆          ┆   ┆           ┆       ┆ i64        ┆ ns]       │\n",
       "╞════════════╪════════════╪════════════╪══════════╪═══╪═══════════╪═══════╪════════════╪═══════════╡\n",
       "│ O:SPY25091 ┆ 209        ┆ 0          ┆ 308      ┆ … ┆ 242215    ┆ false ┆ 0          ┆ 2025-09-1 │\n",
       "│ 1C00656000 ┆            ┆            ┆          ┆   ┆           ┆       ┆            ┆ 1         │\n",
       "│            ┆            ┆            ┆          ┆   ┆           ┆       ┆            ┆ 14:00:00  │\n",
       "│ O:SPY25091 ┆ 232        ┆ 0          ┆ 303      ┆ … ┆ 242215    ┆ false ┆ 0          ┆ 2025-09-1 │\n",
       "│ 1C00656000 ┆            ┆            ┆          ┆   ┆           ┆       ┆            ┆ 1         │\n",
       "│            ┆            ┆            ┆          ┆   ┆           ┆       ┆            ┆ 14:00:00  │\n",
       "│ O:SPY25091 ┆ 232        ┆ 0          ┆ 318      ┆ … ┆ 242215    ┆ false ┆ 0          ┆ 2025-09-1 │\n",
       "│ 1C00656000 ┆            ┆            ┆          ┆   ┆           ┆       ┆            ┆ 1         │\n",
       "│            ┆            ┆            ┆          ┆   ┆           ┆       ┆            ┆ 14:00:00  │\n",
       "│ O:SPY25091 ┆ 232        ┆ 0          ┆ 318      ┆ … ┆ 242215    ┆ false ┆ 0          ┆ 2025-09-1 │\n",
       "│ 1C00656000 ┆            ┆            ┆          ┆   ┆           ┆       ┆            ┆ 1         │\n",
       "│            ┆            ┆            ┆          ┆   ┆           ┆       ┆            ┆ 14:00:00  │\n",
       "│ O:SPY25091 ┆ 209        ┆ 0          ┆ 323      ┆ … ┆ 242215    ┆ false ┆ 0          ┆ 2025-09-1 │\n",
       "│ 1C00656000 ┆            ┆            ┆          ┆   ┆           ┆       ┆            ┆ 1         │\n",
       "│            ┆            ┆            ┆          ┆   ┆           ┆       ┆            ┆ 14:00:00  │\n",
       "│ …          ┆ …          ┆ …          ┆ …        ┆ … ┆ …         ┆ …     ┆ …          ┆ …         │\n",
       "│ O:SPY25091 ┆ 209        ┆ 0          ┆ 315      ┆ … ┆ 242215    ┆ true  ┆ 0          ┆ 2025-09-1 │\n",
       "│ 1C00656000 ┆            ┆            ┆          ┆   ┆           ┆       ┆            ┆ 1         │\n",
       "│            ┆            ┆            ┆          ┆   ┆           ┆       ┆            ┆ 20:00:00  │\n",
       "│ O:SPY25091 ┆ 227        ┆ 0          ┆ 304      ┆ … ┆ 242215    ┆ true  ┆ 0          ┆ 2025-09-1 │\n",
       "│ 1C00656000 ┆            ┆            ┆          ┆   ┆           ┆       ┆            ┆ 1         │\n",
       "│            ┆            ┆            ┆          ┆   ┆           ┆       ┆            ┆ 20:00:00  │\n",
       "│ O:SPY25091 ┆ 233        ┆ 0          ┆ 302      ┆ … ┆ 242215    ┆ true  ┆ 0          ┆ 2025-09-1 │\n",
       "│ 1C00656000 ┆            ┆            ┆          ┆   ┆           ┆       ┆            ┆ 1         │\n",
       "│            ┆            ┆            ┆          ┆   ┆           ┆       ┆            ┆ 20:00:00  │\n",
       "│ O:SPY25091 ┆ 209        ┆ 0          ┆ 307      ┆ … ┆ 242215    ┆ true  ┆ 0          ┆ 2025-09-1 │\n",
       "│ 1C00656000 ┆            ┆            ┆          ┆   ┆           ┆       ┆            ┆ 1         │\n",
       "│            ┆            ┆            ┆          ┆   ┆           ┆       ┆            ┆ 20:00:00  │\n",
       "│ O:SPY25091 ┆ 232        ┆ 0          ┆ 308      ┆ … ┆ 242215    ┆ true  ┆ 0          ┆ 2025-09-1 │\n",
       "│ 1C00656000 ┆            ┆            ┆          ┆   ┆           ┆       ┆            ┆ 1         │\n",
       "│            ┆            ┆            ┆          ┆   ┆           ┆       ┆            ┆ 20:00:00  │\n",
       "└────────────┴────────────┴────────────┴──────────┴───┴───────────┴───────┴────────────┴───────────┘"
      ]
     },
     "execution_count": 12,
     "metadata": {},
     "output_type": "execute_result"
    }
   ],
   "source": [
    "OPE.with_columns(\n",
    "pl.col('datetime').dt.round('1h').alias('date_R')\n",
    "\n",
    ")"
   ]
  },
  {
   "cell_type": "code",
   "execution_count": null,
   "id": "8ee6daee",
   "metadata": {},
   "outputs": [],
   "source": []
  }
 ],
 "metadata": {
  "kernelspec": {
   "display_name": "options-exploration",
   "language": "python",
   "name": "python3"
  },
  "language_info": {
   "codemirror_mode": {
    "name": "ipython",
    "version": 3
   },
   "file_extension": ".py",
   "mimetype": "text/x-python",
   "name": "python",
   "nbconvert_exporter": "python",
   "pygments_lexer": "ipython3",
   "version": "3.12.4"
  }
 },
 "nbformat": 4,
 "nbformat_minor": 5
}
