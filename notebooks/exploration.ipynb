{
 "cells": [
  {
   "cell_type": "code",
   "execution_count": null,
   "id": "48e57444",
   "metadata": {},
   "outputs": [],
   "source": [
    "import polars as pl\n",
    "import numpy as np\n",
    "import random\n",
    "\n",
    "import pathlib\n",
    "import os\n",
    "from datetime import datetime, timezone\n",
    "\n",
    "import plotly.express as px\n",
    "import plotly.graph_objects as go\n",
    "from plotly.subplots import make_subplots\n",
    "\n",
    "this_dir = pathlib.Path('.').parent.resolve()\n",
    "data_dir = os.path.join(this_dir, \"..\", \"data\")\n",
    "trades_dir = os.path.join(data_dir, \"2025\")\n",
    "output_dir = os.path.join(data_dir, \"output\")\n"
   ]
  },
  {
   "cell_type": "code",
   "execution_count": 58,
   "id": "56844a6b",
   "metadata": {},
   "outputs": [],
   "source": [
    "\n",
    "def read_csvs(dir_path: str, random_sample: int | None = None) -> pl.DataFrame:\n",
    "    csv_files = list(pathlib.Path(dir_path).rglob(\"*.csv.gz\"))\n",
    "    if random_sample is not None:\n",
    "        csv_files = random.sample(csv_files, random_sample)\n",
    "     \n",
    "    dfs = [pl.read_csv(f) for f in csv_files]\n",
    "    return pl.concat(dfs)\n",
    "\n",
    "def parse_tickers(df: pl.DataFrame, ticker_col: str = \"ticker\", sip_col: str = \"sip_timestamp\") -> pl.DataFrame:\n",
    "    # Regex to parse variable-length root\n",
    "    pattern = r\"^O:(?P<root>[A-Z]+)(?P<date>\\d{6})(?P<cp>[CP])(?P<strike>\\d+)$\"\n",
    "\n",
    "    # Parse ticker\n",
    "    df = df.with_columns([\n",
    "        pl.col(ticker_col).str.extract(pattern, 1).alias(\"root\"),\n",
    "        pl.col(ticker_col).str.extract(pattern, 2).alias(\"date\"),\n",
    "        pl.col(ticker_col).str.extract(pattern, 3).alias(\"cp\"),\n",
    "        pl.col(ticker_col).str.extract(pattern, 4).alias(\"strike\"),\n",
    "    ])\n",
    "\n",
    "    # Convert date to Date type and strike to integer\n",
    "    df = df.with_columns([\n",
    "        pl.col(\"date\").str.strptime(pl.Date, format=\"%y%m%d\").alias(\"expiration\"),\n",
    "        pl.col(\"strike\").cast(pl.Int64)\n",
    "    ]).drop(\"date\")\n",
    "\n",
    "    # Efficiently convert from epoch nanoseconds to UTC datetime using numpy vectorized operations\n",
    "    sip_np = df[sip_col].to_numpy()\n",
    "    dt_np = sip_np.astype('datetime64[ns]')\n",
    "    df = df.with_columns(pl.Series(\"datetime\", dt_np)).drop(sip_col)\n",
    "\n",
    "    return df\n",
    "\n"
   ]
  },
  {
   "cell_type": "code",
   "execution_count": 59,
   "id": "2fcec82f",
   "metadata": {},
   "outputs": [],
   "source": [
    "test = read_csvs(trades_dir, random_sample=1)"
   ]
  },
  {
   "cell_type": "code",
   "execution_count": 60,
   "id": "b27626ad",
   "metadata": {},
   "outputs": [],
   "source": [
    "test = parse_tickers(test)"
   ]
  },
  {
   "cell_type": "code",
   "execution_count": 62,
   "id": "0dfc81d8",
   "metadata": {},
   "outputs": [
    {
     "data": {
      "text/html": [
       "<div><style>\n",
       ".dataframe > thead > tr,\n",
       ".dataframe > tbody > tr {\n",
       "  text-align: right;\n",
       "  white-space: pre-wrap;\n",
       "}\n",
       "</style>\n",
       "<small>shape: (6_733_158, 11)</small><table border=\"1\" class=\"dataframe\"><thead><tr><th>ticker</th><th>conditions</th><th>correction</th><th>exchange</th><th>price</th><th>size</th><th>root</th><th>cp</th><th>strike</th><th>expiration</th><th>datetime</th></tr><tr><td>str</td><td>i64</td><td>i64</td><td>i64</td><td>f64</td><td>i64</td><td>str</td><td>str</td><td>i64</td><td>date</td><td>datetime[ns]</td></tr></thead><tbody><tr><td>&quot;O:A250620C00115000&quot;</td><td>232</td><td>0</td><td>312</td><td>5.3</td><td>5</td><td>&quot;A&quot;</td><td>&quot;C&quot;</td><td>115000</td><td>2025-06-20</td><td>2025-06-12 13:58:54.502</td></tr><tr><td>&quot;O:A250620C00120000&quot;</td><td>209</td><td>0</td><td>313</td><td>2.2</td><td>3</td><td>&quot;A&quot;</td><td>&quot;C&quot;</td><td>120000</td><td>2025-06-20</td><td>2025-06-12 15:06:12.963</td></tr><tr><td>&quot;O:A250620C00120000&quot;</td><td>209</td><td>0</td><td>322</td><td>2.2</td><td>1</td><td>&quot;A&quot;</td><td>&quot;C&quot;</td><td>120000</td><td>2025-06-20</td><td>2025-06-12 15:06:12.963</td></tr><tr><td>&quot;O:A250620C00120000&quot;</td><td>232</td><td>0</td><td>312</td><td>1.88</td><td>1</td><td>&quot;A&quot;</td><td>&quot;C&quot;</td><td>120000</td><td>2025-06-20</td><td>2025-06-12 17:16:33.096</td></tr><tr><td>&quot;O:A250620C00125000&quot;</td><td>227</td><td>0</td><td>323</td><td>0.45</td><td>2</td><td>&quot;A&quot;</td><td>&quot;C&quot;</td><td>125000</td><td>2025-06-20</td><td>2025-06-12 14:39:41.720</td></tr><tr><td>&hellip;</td><td>&hellip;</td><td>&hellip;</td><td>&hellip;</td><td>&hellip;</td><td>&hellip;</td><td>&hellip;</td><td>&hellip;</td><td>&hellip;</td><td>&hellip;</td><td>&hellip;</td></tr><tr><td>&quot;O:ZYXI251219C00002500&quot;</td><td>227</td><td>0</td><td>323</td><td>0.52</td><td>25</td><td>&quot;ZYXI&quot;</td><td>&quot;C&quot;</td><td>2500</td><td>2025-12-19</td><td>2025-06-12 14:21:32.405</td></tr><tr><td>&quot;O:ZYXI251219C00002500&quot;</td><td>209</td><td>0</td><td>308</td><td>0.55</td><td>100</td><td>&quot;ZYXI&quot;</td><td>&quot;C&quot;</td><td>2500</td><td>2025-12-19</td><td>2025-06-12 15:42:23.298</td></tr><tr><td>&quot;O:ZYXI251219C00002500&quot;</td><td>227</td><td>0</td><td>323</td><td>0.55</td><td>50</td><td>&quot;ZYXI&quot;</td><td>&quot;C&quot;</td><td>2500</td><td>2025-12-19</td><td>2025-06-12 17:19:05.034</td></tr><tr><td>&quot;O:ZYXI251219C00002500&quot;</td><td>209</td><td>0</td><td>323</td><td>0.6</td><td>1</td><td>&quot;ZYXI&quot;</td><td>&quot;C&quot;</td><td>2500</td><td>2025-12-19</td><td>2025-06-12 17:37:18.393</td></tr><tr><td>&quot;O:ZYXI251219C00005000&quot;</td><td>209</td><td>0</td><td>325</td><td>0.16</td><td>50</td><td>&quot;ZYXI&quot;</td><td>&quot;C&quot;</td><td>5000</td><td>2025-12-19</td><td>2025-06-12 13:43:58.468</td></tr></tbody></table></div>"
      ],
      "text/plain": [
       "shape: (6_733_158, 11)\n",
       "┌──────────────┬────────────┬────────────┬──────────┬───┬─────┬────────┬────────────┬──────────────┐\n",
       "│ ticker       ┆ conditions ┆ correction ┆ exchange ┆ … ┆ cp  ┆ strike ┆ expiration ┆ datetime     │\n",
       "│ ---          ┆ ---        ┆ ---        ┆ ---      ┆   ┆ --- ┆ ---    ┆ ---        ┆ ---          │\n",
       "│ str          ┆ i64        ┆ i64        ┆ i64      ┆   ┆ str ┆ i64    ┆ date       ┆ datetime[ns] │\n",
       "╞══════════════╪════════════╪════════════╪══════════╪═══╪═════╪════════╪════════════╪══════════════╡\n",
       "│ O:A250620C00 ┆ 232        ┆ 0          ┆ 312      ┆ … ┆ C   ┆ 115000 ┆ 2025-06-20 ┆ 2025-06-12   │\n",
       "│ 115000       ┆            ┆            ┆          ┆   ┆     ┆        ┆            ┆ 13:58:54.502 │\n",
       "│ O:A250620C00 ┆ 209        ┆ 0          ┆ 313      ┆ … ┆ C   ┆ 120000 ┆ 2025-06-20 ┆ 2025-06-12   │\n",
       "│ 120000       ┆            ┆            ┆          ┆   ┆     ┆        ┆            ┆ 15:06:12.963 │\n",
       "│ O:A250620C00 ┆ 209        ┆ 0          ┆ 322      ┆ … ┆ C   ┆ 120000 ┆ 2025-06-20 ┆ 2025-06-12   │\n",
       "│ 120000       ┆            ┆            ┆          ┆   ┆     ┆        ┆            ┆ 15:06:12.963 │\n",
       "│ O:A250620C00 ┆ 232        ┆ 0          ┆ 312      ┆ … ┆ C   ┆ 120000 ┆ 2025-06-20 ┆ 2025-06-12   │\n",
       "│ 120000       ┆            ┆            ┆          ┆   ┆     ┆        ┆            ┆ 17:16:33.096 │\n",
       "│ O:A250620C00 ┆ 227        ┆ 0          ┆ 323      ┆ … ┆ C   ┆ 125000 ┆ 2025-06-20 ┆ 2025-06-12   │\n",
       "│ 125000       ┆            ┆            ┆          ┆   ┆     ┆        ┆            ┆ 14:39:41.720 │\n",
       "│ …            ┆ …          ┆ …          ┆ …        ┆ … ┆ …   ┆ …      ┆ …          ┆ …            │\n",
       "│ O:ZYXI251219 ┆ 227        ┆ 0          ┆ 323      ┆ … ┆ C   ┆ 2500   ┆ 2025-12-19 ┆ 2025-06-12   │\n",
       "│ C00002500    ┆            ┆            ┆          ┆   ┆     ┆        ┆            ┆ 14:21:32.405 │\n",
       "│ O:ZYXI251219 ┆ 209        ┆ 0          ┆ 308      ┆ … ┆ C   ┆ 2500   ┆ 2025-12-19 ┆ 2025-06-12   │\n",
       "│ C00002500    ┆            ┆            ┆          ┆   ┆     ┆        ┆            ┆ 15:42:23.298 │\n",
       "│ O:ZYXI251219 ┆ 227        ┆ 0          ┆ 323      ┆ … ┆ C   ┆ 2500   ┆ 2025-12-19 ┆ 2025-06-12   │\n",
       "│ C00002500    ┆            ┆            ┆          ┆   ┆     ┆        ┆            ┆ 17:19:05.034 │\n",
       "│ O:ZYXI251219 ┆ 209        ┆ 0          ┆ 323      ┆ … ┆ C   ┆ 2500   ┆ 2025-12-19 ┆ 2025-06-12   │\n",
       "│ C00002500    ┆            ┆            ┆          ┆   ┆     ┆        ┆            ┆ 17:37:18.393 │\n",
       "│ O:ZYXI251219 ┆ 209        ┆ 0          ┆ 325      ┆ … ┆ C   ┆ 5000   ┆ 2025-12-19 ┆ 2025-06-12   │\n",
       "│ C00005000    ┆            ┆            ┆          ┆   ┆     ┆        ┆            ┆ 13:43:58.468 │\n",
       "└──────────────┴────────────┴────────────┴──────────┴───┴─────┴────────┴────────────┴──────────────┘"
      ]
     },
     "execution_count": 62,
     "metadata": {},
     "output_type": "execute_result"
    }
   ],
   "source": [
    "test"
   ]
  },
  {
   "cell_type": "code",
   "execution_count": null,
   "id": "449f4f18",
   "metadata": {},
   "outputs": [],
   "source": []
  }
 ],
 "metadata": {
  "kernelspec": {
   "display_name": "options-exploration",
   "language": "python",
   "name": "python3"
  },
  "language_info": {
   "codemirror_mode": {
    "name": "ipython",
    "version": 3
   },
   "file_extension": ".py",
   "mimetype": "text/x-python",
   "name": "python",
   "nbconvert_exporter": "python",
   "pygments_lexer": "ipython3",
   "version": "3.12.4"
  }
 },
 "nbformat": 4,
 "nbformat_minor": 5
}
