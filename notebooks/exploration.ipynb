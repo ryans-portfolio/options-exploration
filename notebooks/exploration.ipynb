{
 "cells": [
  {
   "cell_type": "code",
   "execution_count": 89,
   "id": "48e57444",
   "metadata": {},
   "outputs": [],
   "source": [
    "import polars as pl\n",
    "import numpy as np\n",
    "import random\n",
    "\n",
    "import pathlib\n",
    "import os\n",
    "from datetime import datetime, timezone\n",
    "\n",
    "import plotly.express as px\n",
    "import plotly.graph_objects as go\n",
    "from plotly.subplots import make_subplots\n",
    "\n",
    "this_dir = pathlib.Path('.').parent.resolve()\n",
    "data_dir = os.path.join(this_dir, \"..\", \"data\")\n",
    "trades_dir = os.path.join(data_dir, \"2025\")\n",
    "output_dir = os.path.join(data_dir, \"output\")\n"
   ]
  },
  {
   "cell_type": "code",
   "execution_count": 151,
   "id": "56844a6b",
   "metadata": {},
   "outputs": [],
   "source": [
    "\n",
    "def read_csvs(dir_path: str, random_sample: int | None = None) -> pl.DataFrame:\n",
    "    csv_files = list(pathlib.Path(dir_path).rglob(\"*.csv.gz\"))\n",
    "    if random_sample is not None:\n",
    "        csv_files = random.sample(csv_files, random_sample)\n",
    "     \n",
    "    dfs = [pl.read_csv(f) for f in csv_files]\n",
    "    return pl.concat(dfs)\n",
    "\n",
    "def parse_tickers(df: pl.DataFrame, ticker_col: str = \"ticker\", sip_col: str = \"sip_timestamp\") -> pl.DataFrame:\n",
    "    # Regex to parse variable-length root\n",
    "    pattern = r\"^O:(?P<root>[A-Z]+)(?P<date>\\d{6})(?P<cp>[CP])(?P<strike>\\d+)$\"\n",
    "\n",
    "    # Parse ticker\n",
    "    df = df.with_columns([\n",
    "        pl.col(ticker_col).str.extract(pattern, 1).alias(\"root\"),\n",
    "        pl.col(ticker_col).str.extract(pattern, 2).alias(\"date\"),\n",
    "        pl.col(ticker_col).str.extract(pattern, 3).alias(\"cp\"),\n",
    "        pl.col(ticker_col).str.extract(pattern, 4).alias(\"strike\"),\n",
    "    ])\n",
    "\n",
    "    # Convert date to Date type and strike to integer\n",
    "    df = df.with_columns([\n",
    "        pl.col(\"date\").str.strptime(pl.Date, format=\"%y%m%d\").alias(\"expiration\"),\n",
    "        pl.col(\"strike\").cast(pl.Int64)\n",
    "    ]).drop(\"date\")\n",
    "\n",
    "    # Efficiently convert from epoch nanoseconds to UTC datetime using numpy vectorized operations\n",
    "    sip_np = df[sip_col].to_numpy()\n",
    "    dt_np = sip_np.astype('datetime64[ns]')\n",
    "    df = df.with_columns(pl.Series(\"datetime\", dt_np)).drop(sip_col)\n",
    "\n",
    "    return df\n",
    "\n",
    "def compute_cumulative_volume(df: pl.DataFrame, time_col: str = \"datetime\", group_col: str = \"ticker\", volume_col: str = \"size\") -> pl.DataFrame:\n",
    "    # Sort by time\n",
    "    df = df.sort(time_col)\n",
    "\n",
    "    # Compute cumulative volume using groupby and cumsum\n",
    "    df = df.with_columns([\n",
    "        pl.col(volume_col).cum_sum().over(group_col).alias(\"cumulative_volume\"),\n",
    "        pl.arange(1, pl.count() + 1).over(group_col).alias(\"num_trades\")\n",
    "        ])\n",
    "\n",
    "    return df\n"
   ]
  },
  {
   "cell_type": "code",
   "execution_count": 152,
   "id": "2fcec82f",
   "metadata": {},
   "outputs": [
    {
     "name": "stderr",
     "output_type": "stream",
     "text": [
      "C:\\Users\\Ryan\\AppData\\Local\\Temp\\ipykernel_22548\\388845914.py:41: DeprecationWarning:\n",
      "\n",
      "`pl.count()` is deprecated. Please use `pl.len()` instead.\n",
      "(Deprecated in version 0.20.5)\n",
      "\n"
     ]
    }
   ],
   "source": [
    "test = read_csvs(trades_dir, random_sample=1)\n",
    "test = parse_tickers(test)\n",
    "test = compute_cumulative_volume(test)"
   ]
  },
  {
   "cell_type": "code",
   "execution_count": 153,
   "id": "b27626ad",
   "metadata": {},
   "outputs": [],
   "source": [
    "vol = test.group_by(\"ticker\").agg([\n",
    "    pl.col(\"size\").sum().alias(\"total_volume\")\n",
    "]).sort(\"total_volume\", descending=True)"
   ]
  },
  {
   "cell_type": "code",
   "execution_count": null,
   "id": "449f4f18",
   "metadata": {},
   "outputs": [],
   "source": [
    "tick_testers = vol.head(20)['ticker'].to_list()\n",
    "TT = tick_testers[2]\n",
    "\n",
    "fig = make_subplots(rows=4, cols=1, shared_xaxes=True, vertical_spacing=0.1,\n",
    "                    subplot_titles=(\"Trade Price Over Time\", \"Trade Volume Over Time\"))\n",
    "\n",
    "ticker_data = test.filter(pl.col(\"ticker\") == TT).sort(\"datetime\")\n",
    "\n",
    "\n",
    "fig.add_trace(go.Scatter(x=ticker_data['datetime'], y=ticker_data['price'], name='Price'), row=1, col=1)\n",
    "fig.add_trace(go.Scatter(x=ticker_data['datetime'], y=ticker_data['cumulative_volume'], name='Cumulative Volume'), row=2, col=1)\n",
    "fig.add_trace(go.Scatter(x=ticker_data['datetime'], y=ticker_data['num_trades'], name='Number of Trades',opacity=0.5), row=3, col=1)\n",
    "fig.add_trace(go.Bar(x=ticker_data['datetime'], y=ticker_data['size'], name='Trade Size'), row=4, col=1)\n",
    "\n",
    "# Extract symbol/root from TT (ticker string)\n",
    "symbol = TT.split(\":\")[1][:-15]  # Remove date, cp, strike (assuming OCC symbology)\n",
    "strike = ticker_data['strike'][0]\n",
    "expiration = ticker_data['expiration'][0]\n",
    "cp = TT[-15]  # 'C' for call, 'P' for put\n",
    "cp_text = \"Call\" if cp == \"C\" else \"Put\"\n",
    "fig.update_layout(\n",
    "    title_text=f\"Trade Data for {symbol} {cp_text}<br>Strike: {strike}, Expiration: {expiration}\"\n",
    ")\n",
    "\n",
    "\n",
    "fig.show(renderer=\"browser\")"
   ]
  },
  {
   "cell_type": "code",
   "execution_count": 157,
   "id": "9c873684",
   "metadata": {},
   "outputs": [],
   "source": [
    "fig = px.scatter(x=ticker_data['num_trades'], y=ticker_data['cumulative_volume'],)\n",
    "fig.show(renderer=\"browser\")"
   ]
  },
  {
   "cell_type": "code",
   "execution_count": null,
   "id": "07707a55",
   "metadata": {},
   "outputs": [],
   "source": []
  }
 ],
 "metadata": {
  "kernelspec": {
   "display_name": "options-exploration",
   "language": "python",
   "name": "python3"
  },
  "language_info": {
   "codemirror_mode": {
    "name": "ipython",
    "version": 3
   },
   "file_extension": ".py",
   "mimetype": "text/x-python",
   "name": "python",
   "nbconvert_exporter": "python",
   "pygments_lexer": "ipython3",
   "version": "3.12.4"
  }
 },
 "nbformat": 4,
 "nbformat_minor": 5
}
